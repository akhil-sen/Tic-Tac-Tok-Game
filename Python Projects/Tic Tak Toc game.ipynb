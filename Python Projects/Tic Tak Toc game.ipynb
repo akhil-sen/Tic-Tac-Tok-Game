{
 "cells": [
  {
   "cell_type": "markdown",
   "id": "1245b5db",
   "metadata": {},
   "source": [
    "# <p style=\"font-size:60px;\">❌⭕<u>Tic Tac Toe Board</u>⭕❌</p>"
   ]
  },
  {
   "cell_type": "raw",
   "id": "92b520fa",
   "metadata": {},
   "source": [
    "Logic:\n",
    "\n",
    "[Visual Representation]-->[User Input]-->[Funtion Updates]-->[New Visual]-->[Update in Visual Representation]"
   ]
  },
  {
   "cell_type": "code",
   "execution_count": 1,
   "id": "4b5ac15a",
   "metadata": {},
   "outputs": [],
   "source": [
    "#class for formating print statement\n",
    "class color:\n",
    "   PURPLE = '\\033[95m'\n",
    "   CYAN = '\\033[96m'\n",
    "   DARKCYAN = '\\033[36m'\n",
    "   BLUE = '\\033[94m'\n",
    "   GREEN = '\\033[92m'\n",
    "   YELLOW = '\\033[93m'\n",
    "   RED = '\\033[91m'\n",
    "   BOLD = '\\033[1m'\n",
    "   UNDERLINE = '\\033[4m'\n",
    "   END = '\\033[0m'"
   ]
  },
  {
   "cell_type": "raw",
   "id": "8dd9ae60",
   "metadata": {},
   "source": [
    "Set up your board as a list, where each index 1-9 corresponds with a number on a number pad, so you get a 3 by 3 board representation."
   ]
  },
  {
   "cell_type": "code",
   "execution_count": 2,
   "id": "df9bdf76",
   "metadata": {},
   "outputs": [],
   "source": [
    "from IPython.display import clear_output\n",
    "\n",
    "def display_board(board):\n",
    "    clear_output()\n",
    "    #Clear_output() This is use to clear previous output. Remember, this only works in jupyter.\n",
    "    print('┏━━━━━┳━━━━━━┳━━━━━┓')\n",
    "    print('┃     ┃      ┃     ┃')\n",
    "    print('┃  '+board[1]+'  ┃   '+board[2]+'  ┃  '+board[3]+'  ┃')\n",
    "    print('┃     ┃      ┃     ┃')\n",
    "    print('┣━━━━━╋━━━━━━╋━━━━━┫')\n",
    "    print('┃     ┃      ┃     ┃')\n",
    "    print('┃  '+board[4]+'  ┃   '+board[5]+'  ┃  '+board[6]+'  ┃')\n",
    "    print('┃     ┃      ┃     ┃')\n",
    "    print('┣━━━━━╋━━━━━━╋━━━━━┫')\n",
    "    print('┃     ┃      ┃     ┃')\n",
    "    print('┃  '+board[7]+'  ┃  '+board[8]+'   ┃  '+board[9]+'  ┃')\n",
    "    print('┃     ┃      ┃     ┃')\n",
    "    print('┗━━━━━┻━━━━━━┻━━━━━┛')"
   ]
  },
  {
   "cell_type": "raw",
   "id": "def953a5",
   "metadata": {},
   "source": [
    "Take in a player input and assign their marker as 'X' or 'O'. "
   ]
  },
  {
   "cell_type": "code",
   "execution_count": 3,
   "id": "a4b5ed65",
   "metadata": {},
   "outputs": [],
   "source": [
    "def player_input():\n",
    "    mark=''\n",
    "    \n",
    "    while mark !='X' and mark !='O':\n",
    "        mark = input(color.RED+'Hey!'+color.END+' Player1:Select your mark '+color.RED+'X'+color.END+' or '+color.RED+'O'+color.END+': ').upper()\n",
    "    if mark=='X':\n",
    "        return ('X','O')\n",
    "    else:\n",
    "        return ('O','X')\n",
    "#Output will be (Player 1 Choice, Player 2 Choice)"
   ]
  },
  {
   "cell_type": "raw",
   "id": "a10d4d83",
   "metadata": {},
   "source": [
    "Take in the board list object, a marker ('X' or 'O'), and a desired position (number 1-9) and assigns it to the board."
   ]
  },
  {
   "cell_type": "code",
   "execution_count": 4,
   "id": "bd5925e0",
   "metadata": {},
   "outputs": [],
   "source": [
    "def place_marker(board, mark, position):\n",
    "    board[position]=mark"
   ]
  },
  {
   "cell_type": "raw",
   "id": "1ca10bd1",
   "metadata": {},
   "source": [
    "Function that takes in a board and a mark (X or O) and then checks to see if that mark has won."
   ]
  },
  {
   "cell_type": "code",
   "execution_count": 5,
   "id": "edc2162c",
   "metadata": {},
   "outputs": [],
   "source": [
    "def win_check(board, mark):\n",
    "    \n",
    "    #Winning Tic Tak Toc conditions\n",
    "    \n",
    "    return ((board[1]==board[2]==board[3]==mark)or #row\n",
    "           (board[4]==board[5]==board[6]==mark)or  #row\n",
    "           (board[7]==board[8]==board[9]==mark)or  #row\n",
    "           (board[1]==board[4]==board[7]==mark)or  #coluum\n",
    "           (board[2]==board[5]==board[8]==mark)or  #coluum\n",
    "           (board[3]==board[6]==board[9]==mark)or  #coluum\n",
    "           (board[1]==board[5]==board[9]==mark)or  #Daigonal\n",
    "           (board[3]==board[5]==board[7]==mark))   #Diagonal"
   ]
  },
  {
   "cell_type": "raw",
   "id": "5976db28",
   "metadata": {},
   "source": [
    "Function that uses the random module to randomly decide which player goes first. You may want to lookup random.randint() Return a string of which player went first."
   ]
  },
  {
   "cell_type": "code",
   "execution_count": 6,
   "id": "1948a79d",
   "metadata": {},
   "outputs": [],
   "source": [
    "import random\n",
    "\n",
    "def choose_first():\n",
    "    flip = random.randint(0,1)\n",
    "    if flip == 0:\n",
    "        return 'Player 1'\n",
    "    else:\n",
    "        return 'Player 2'"
   ]
  },
  {
   "cell_type": "raw",
   "id": "e1b9a0c0",
   "metadata": {},
   "source": [
    "Function that returns a boolean indicating whether a space on the board is freely available."
   ]
  },
  {
   "cell_type": "code",
   "execution_count": 7,
   "id": "45fdb9e9",
   "metadata": {},
   "outputs": [],
   "source": [
    "def space_check(board, position):\n",
    "    \n",
    "    return board[position]==' '"
   ]
  },
  {
   "cell_type": "raw",
   "id": "7018a8df",
   "metadata": {},
   "source": [
    "Function that checks if the board is full and returns a boolean value. True if full, False otherwise."
   ]
  },
  {
   "cell_type": "code",
   "execution_count": 8,
   "id": "46f60f89",
   "metadata": {},
   "outputs": [],
   "source": [
    "def full_board_check(board):\n",
    "    \n",
    "    for i in range(1,10):\n",
    "        if space_check(board,i):\n",
    "            return False\n",
    "    #board is full another condition\n",
    "    return True"
   ]
  },
  {
   "cell_type": "raw",
   "id": "6498a7d7",
   "metadata": {},
   "source": [
    "Function that asks for a player's next position (as a number 1-9) and then uses the function from step 6 to check if it's a free position. If it is, then return the position for later use."
   ]
  },
  {
   "cell_type": "code",
   "execution_count": 9,
   "id": "bcd3f03c",
   "metadata": {},
   "outputs": [],
   "source": [
    "def player_choice(board):\n",
    "    position=0\n",
    "    while position not in range(1,10) or not space_check(board,position):\n",
    "        position=int(input('Enter Position value in range 1-9: '))\n",
    "    return position"
   ]
  },
  {
   "cell_type": "raw",
   "id": "1cc6d1f7",
   "metadata": {},
   "source": [
    "Function that asks the player if they want to play again and returns a boolean True if they do want to play again."
   ]
  },
  {
   "cell_type": "code",
   "execution_count": 10,
   "id": "6116536b",
   "metadata": {},
   "outputs": [],
   "source": [
    "def replay():\n",
    "    choice=input('Nice! wanna play it again? (Y)Yes or (N)No ')\n",
    "    return choice=='Yes'"
   ]
  },
  {
   "cell_type": "raw",
   "id": "375c100d",
   "metadata": {},
   "source": [
    "Use while loops and the functions you've made to run the game!"
   ]
  },
  {
   "cell_type": "code",
   "execution_count": 11,
   "id": "dc1f9e4a",
   "metadata": {},
   "outputs": [
    {
     "name": "stdout",
     "output_type": "stream",
     "text": [
      "Welcome to Tic Tac Toe!\n",
      "Hey! Player1:Select your mark X or O: o\n",
      "Player 2 will go first.\n",
      "Are you ready to play? Enter Yes or No. n\n",
      "Nice! wanna play it again? (Y)Yes or (N)No n\n"
     ]
    }
   ],
   "source": [
    "print('Welcome to Tic Tac Toe!')\n",
    "\n",
    "while True:\n",
    "    # Reset the board\n",
    "    theBoard = [' '] * 10\n",
    "    player1_marker, player2_marker = player_input()\n",
    "    turn = choose_first()\n",
    "    print(turn + ' will go first.')\n",
    "    \n",
    "    play_game = input('Are you ready to play? Enter Yes or No. ')\n",
    "    \n",
    "    if play_game.lower()[0] == 'y':\n",
    "        game_on = True\n",
    "    else:\n",
    "        game_on = False\n",
    "\n",
    "    while game_on:\n",
    "        \n",
    "        if turn == 'Player 1':\n",
    "            # Player1's turn.\n",
    "            \n",
    "            display_board(theBoard)\n",
    "            position = player_choice(theBoard)\n",
    "            place_marker(theBoard, player1_marker, position)\n",
    "\n",
    "            if win_check(theBoard, player1_marker):\n",
    "                display_board(theBoard)\n",
    "                print(color.RED+'Congratulations!'+color.END+' Player 1 have won the game!')\n",
    "                game_on = False\n",
    "            else:\n",
    "                if full_board_check(theBoard):\n",
    "                    display_board(theBoard)\n",
    "                    print('The game is a draw!')\n",
    "                    break\n",
    "                else:\n",
    "                    turn = 'Player 2'\n",
    "\n",
    "        else:\n",
    "            # Player2's turn.\n",
    "            \n",
    "            display_board(theBoard)\n",
    "            position = player_choice(theBoard)\n",
    "            place_marker(theBoard, player2_marker, position)\n",
    "\n",
    "            if win_check(theBoard, player2_marker):\n",
    "                display_board(theBoard)\n",
    "                print(color.RED+'Congratulations!'+color.END+' Player 2 have won the game!')\n",
    "                game_on = False\n",
    "            else:\n",
    "                if full_board_check(theBoard):\n",
    "                    display_board(theBoard)\n",
    "                    print('The game is a draw!')\n",
    "                    break\n",
    "                else:\n",
    "                    turn = 'Player 1'\n",
    "\n",
    "    if not replay():\n",
    "        break"
   ]
  },
  {
   "cell_type": "code",
   "execution_count": null,
   "id": "60a3d464",
   "metadata": {},
   "outputs": [],
   "source": []
  }
 ],
 "metadata": {
  "kernelspec": {
   "display_name": "Python 3 (ipykernel)",
   "language": "python",
   "name": "python3"
  },
  "language_info": {
   "codemirror_mode": {
    "name": "ipython",
    "version": 3
   },
   "file_extension": ".py",
   "mimetype": "text/x-python",
   "name": "python",
   "nbconvert_exporter": "python",
   "pygments_lexer": "ipython3",
   "version": "3.9.13"
  }
 },
 "nbformat": 4,
 "nbformat_minor": 5
}
